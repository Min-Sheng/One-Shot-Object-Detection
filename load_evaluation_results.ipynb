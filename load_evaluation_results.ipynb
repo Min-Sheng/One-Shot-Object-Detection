{
 "cells": [
  {
   "cell_type": "code",
   "execution_count": 1,
   "metadata": {},
   "outputs": [],
   "source": [
    "import pickle\n",
    "import glob\n",
    "import os\n",
    "from datasets.fss_cell import fss_cell"
   ]
  },
  {
   "cell_type": "code",
   "execution_count": 2,
   "metadata": {},
   "outputs": [],
   "source": [
    "image_set ='test'\n",
    "year = '2020'"
   ]
  },
  {
   "cell_type": "code",
   "execution_count": 3,
   "metadata": {},
   "outputs": [
    {
     "name": "stdout",
     "output_type": "stream",
     "text": [
      "loading annotations into memory...\n",
      "Done (t=1.29s)\n",
      "creating index...\n",
      "index created!\n"
     ]
    }
   ],
   "source": [
    "dataset = fss_cell(image_set, year)"
   ]
  },
  {
   "cell_type": "code",
   "execution_count": 4,
   "metadata": {},
   "outputs": [],
   "source": [
    "results_dir = 'output/res50/fss_cell_2020_test/faster_rcnn_unseen/'"
   ]
  },
  {
   "cell_type": "code",
   "execution_count": 24,
   "metadata": {},
   "outputs": [],
   "source": [
    "results_list = sorted(glob.glob(os.path.join(results_dir, 'cocoeval*')))\n",
    "g6_results_list = [file for file in results_list if 'g6' in file]\n",
    "results_list = sorted(list(set(results_list) - set(g6_results__list)))"
   ]
  },
  {
   "cell_type": "code",
   "execution_count": 25,
   "metadata": {},
   "outputs": [
    {
     "data": {
      "text/plain": [
       "['output/res50/fss_cell_2020_test/faster_rcnn_unseen/cocoeval_sess1_g6_seen2_0_results.pkl',\n",
       " 'output/res50/fss_cell_2020_test/faster_rcnn_unseen/cocoeval_sess2_g6_seen2_0_results.pkl',\n",
       " 'output/res50/fss_cell_2020_test/faster_rcnn_unseen/cocoeval_sess3_g6_seen2_0_results.pkl',\n",
       " 'output/res50/fss_cell_2020_test/faster_rcnn_unseen/cocoeval_sess4_g6_seen2_0_results.pkl',\n",
       " 'output/res50/fss_cell_2020_test/faster_rcnn_unseen/cocoeval_sess5_g6_seen2_0_results.pkl']"
      ]
     },
     "execution_count": 25,
     "metadata": {},
     "output_type": "execute_result"
    }
   ],
   "source": [
    "g6_results_list"
   ]
  },
  {
   "cell_type": "code",
   "execution_count": 26,
   "metadata": {},
   "outputs": [
    {
     "data": {
      "text/plain": [
       "['output/res50/fss_cell_2020_test/faster_rcnn_unseen/cocoeval_sess1_g1_seen2_0_results.pkl',\n",
       " 'output/res50/fss_cell_2020_test/faster_rcnn_unseen/cocoeval_sess2_g2_seen2_0_results.pkl',\n",
       " 'output/res50/fss_cell_2020_test/faster_rcnn_unseen/cocoeval_sess3_g3_seen2_0_results.pkl',\n",
       " 'output/res50/fss_cell_2020_test/faster_rcnn_unseen/cocoeval_sess4_g4_seen2_0_results.pkl',\n",
       " 'output/res50/fss_cell_2020_test/faster_rcnn_unseen/cocoeval_sess5_g5_seen2_0_results.pkl']"
      ]
     },
     "execution_count": 26,
     "metadata": {},
     "output_type": "execute_result"
    }
   ],
   "source": [
    "results_list"
   ]
  },
  {
   "cell_type": "code",
   "execution_count": 22,
   "metadata": {},
   "outputs": [],
   "source": [
    "results = []\n",
    "for results_file in results_list:\n",
    "    with open(results_file , 'rb') as f:\n",
    "        results.append(pickle.load(f))"
   ]
  },
  {
   "cell_type": "code",
   "execution_count": 27,
   "metadata": {},
   "outputs": [],
   "source": [
    "g6_results = []\n",
    "for results_file in g6_results_list:\n",
    "    with open(results_file , 'rb') as f:\n",
    "        g6_results.append(pickle.load(f))"
   ]
  },
  {
   "cell_type": "code",
   "execution_count": 29,
   "metadata": {},
   "outputs": [],
   "source": [
    "DATASETS = {\n",
    "    1: \"BBBC039\",\n",
    "    2: \"Hela\",\n",
    "    3: \"MicroNet\",\n",
    "    4: \"BBBC007_cell\",\n",
    "    5: \"BBBC007_nuclei\",\n",
    "    6: \"MoNuSeg\",\n",
    "    7: \"BBBC020_cell\",\n",
    "    8: \"BBBC020_nuclei\",\n",
    "    9: \"NucleiSeg\",\n",
    "    10: \"ClusterNuclei\",\n",
    "    11: \"TNBC\",\n",
    "    12: \"ISBI2009\",\n",
    "    13: \"BBBC018_cell\",\n",
    "    14: \"BBBC018_nuclei\"\n",
    "}\n",
    "\n",
    "def get_list(coco, g):\n",
    "    folds = {\n",
    "        'all': set(range(1, 15)),\n",
    "        1: set(range(1, 13)) - set(range(1, 3)),\n",
    "        2: set(range(1, 13)) - set(range(3, 6)),\n",
    "        3: set(range(1, 13)) - set(range(6, 9)),\n",
    "        4: set(range(1, 13)) - set(range(9, 11)),\n",
    "        5: set(range(1, 13)) - set(range(11, 13)),\n",
    "        6: set(range(13, 15))\n",
    "        }\n",
    "    # Group number to class\n",
    "    if g!=6:\n",
    "        coco.list = list(folds['all'] - folds[g] - folds[6])\n",
    "    else:\n",
    "        coco.list = list(folds[6])"
   ]
  },
  {
   "cell_type": "code",
   "execution_count": 9,
   "metadata": {},
   "outputs": [
    {
     "name": "stdout",
     "output_type": "stream",
     "text": [
      "Running per image evaluation...\n",
      "Evaluate annotation type *bbox*\n",
      "DONE (t=137.14s).\n",
      "Accumulating evaluation results...\n",
      "DONE (t=0.71s).\n",
      " Average Precision  (AP) @[ IoU=0.50:0.95 | area=   all | maxDets=500 ] = 0.387\n",
      " Average Precision  (AP) @[ IoU=0.50      | area=   all | maxDets=500 ] = 0.643\n",
      " Average Precision  (AP) @[ IoU=0.75      | area=   all | maxDets=500 ] = 0.402\n",
      " Average Precision  (AP) @[ IoU=0.50:0.95 | area= small | maxDets=500 ] = 0.091\n",
      " Average Precision  (AP) @[ IoU=0.50:0.95 | area=medium | maxDets=500 ] = 0.452\n",
      " Average Precision  (AP) @[ IoU=0.50:0.95 | area= large | maxDets=500 ] = -1.000\n",
      " Average Recall     (AR) @[ IoU=0.50:0.95 | area=   all | maxDets=  1 ] = 0.004\n",
      " Average Recall     (AR) @[ IoU=0.50:0.95 | area=   all | maxDets= 10 ] = 0.056\n",
      " Average Recall     (AR) @[ IoU=0.50:0.95 | area=   all | maxDets=100 ] = 0.448\n",
      " Average Recall     (AR) @[ IoU=0.50:0.95 | area=   all | maxDets=200 ] = 0.502\n",
      " Average Recall     (AR) @[ IoU=0.50:0.95 | area=   all | maxDets=500 ] = 0.502\n",
      " Average Recall     (AR) @[ IoU=0.50:0.95 | area= small | maxDets=500 ] = 0.107\n",
      " Average Recall     (AR) @[ IoU=0.50:0.95 | area=medium | maxDets=500 ] = 0.603\n",
      " Average Recall     (AR) @[ IoU=0.50:0.95 | area= large | maxDets=500 ] = -1.000\n"
     ]
    }
   ],
   "source": [
    "g = 1\n",
    "cocoEval = results[g-1]\n",
    "get_list(dataset, g)\n",
    "tmp = [i-1 for i in dataset.list]\n",
    "cocoEval.evaluate()\n",
    "cocoEval.accumulate()\n",
    "cocoEval.summarize(class_index=tmp)"
   ]
  },
  {
   "cell_type": "code",
   "execution_count": 10,
   "metadata": {},
   "outputs": [
    {
     "name": "stdout",
     "output_type": "stream",
     "text": [
      "Running per image evaluation...\n",
      "Evaluate annotation type *bbox*\n",
      "DONE (t=69.51s).\n",
      "Accumulating evaluation results...\n",
      "DONE (t=0.53s).\n",
      " Average Precision  (AP) @[ IoU=0.50:0.95 | area=   all | maxDets=500 ] = 0.162\n",
      " Average Precision  (AP) @[ IoU=0.50      | area=   all | maxDets=500 ] = 0.469\n",
      " Average Precision  (AP) @[ IoU=0.75      | area=   all | maxDets=500 ] = 0.074\n",
      " Average Precision  (AP) @[ IoU=0.50:0.95 | area= small | maxDets=500 ] = 0.107\n",
      " Average Precision  (AP) @[ IoU=0.50:0.95 | area=medium | maxDets=500 ] = 0.186\n",
      " Average Precision  (AP) @[ IoU=0.50:0.95 | area= large | maxDets=500 ] = 0.180\n",
      " Average Recall     (AR) @[ IoU=0.50:0.95 | area=   all | maxDets=  1 ] = 0.005\n",
      " Average Recall     (AR) @[ IoU=0.50:0.95 | area=   all | maxDets= 10 ] = 0.048\n",
      " Average Recall     (AR) @[ IoU=0.50:0.95 | area=   all | maxDets=100 ] = 0.266\n",
      " Average Recall     (AR) @[ IoU=0.50:0.95 | area=   all | maxDets=200 ] = 0.277\n",
      " Average Recall     (AR) @[ IoU=0.50:0.95 | area=   all | maxDets=500 ] = 0.277\n",
      " Average Recall     (AR) @[ IoU=0.50:0.95 | area= small | maxDets=500 ] = 0.108\n",
      " Average Recall     (AR) @[ IoU=0.50:0.95 | area=medium | maxDets=500 ] = 0.362\n",
      " Average Recall     (AR) @[ IoU=0.50:0.95 | area= large | maxDets=500 ] = 0.520\n"
     ]
    }
   ],
   "source": [
    "g = 2\n",
    "cocoEval = results[g-1]\n",
    "get_list(dataset, g)\n",
    "tmp = [i-1 for i in dataset.list]\n",
    "cocoEval.evaluate()\n",
    "cocoEval.accumulate()\n",
    "cocoEval.summarize(class_index=tmp)"
   ]
  },
  {
   "cell_type": "code",
   "execution_count": 11,
   "metadata": {},
   "outputs": [
    {
     "name": "stdout",
     "output_type": "stream",
     "text": [
      "Running per image evaluation...\n",
      "Evaluate annotation type *bbox*\n",
      "DONE (t=211.56s).\n",
      "Accumulating evaluation results...\n",
      "DONE (t=1.12s).\n",
      " Average Precision  (AP) @[ IoU=0.50:0.95 | area=   all | maxDets=500 ] = 0.219\n",
      " Average Precision  (AP) @[ IoU=0.50      | area=   all | maxDets=500 ] = 0.425\n",
      " Average Precision  (AP) @[ IoU=0.75      | area=   all | maxDets=500 ] = 0.173\n",
      " Average Precision  (AP) @[ IoU=0.50:0.95 | area= small | maxDets=500 ] = 0.020\n",
      " Average Precision  (AP) @[ IoU=0.50:0.95 | area=medium | maxDets=500 ] = 0.207\n",
      " Average Precision  (AP) @[ IoU=0.50:0.95 | area= large | maxDets=500 ] = 0.321\n",
      " Average Recall     (AR) @[ IoU=0.50:0.95 | area=   all | maxDets=  1 ] = 0.035\n",
      " Average Recall     (AR) @[ IoU=0.50:0.95 | area=   all | maxDets= 10 ] = 0.256\n",
      " Average Recall     (AR) @[ IoU=0.50:0.95 | area=   all | maxDets=100 ] = 0.439\n",
      " Average Recall     (AR) @[ IoU=0.50:0.95 | area=   all | maxDets=200 ] = 0.450\n",
      " Average Recall     (AR) @[ IoU=0.50:0.95 | area=   all | maxDets=500 ] = 0.451\n",
      " Average Recall     (AR) @[ IoU=0.50:0.95 | area= small | maxDets=500 ] = 0.022\n",
      " Average Recall     (AR) @[ IoU=0.50:0.95 | area=medium | maxDets=500 ] = 0.496\n",
      " Average Recall     (AR) @[ IoU=0.50:0.95 | area= large | maxDets=500 ] = 0.734\n"
     ]
    }
   ],
   "source": [
    "g = 3\n",
    "cocoEval = results[g-1]\n",
    "get_list(dataset, g)\n",
    "tmp = [i-1 for i in dataset.list]\n",
    "cocoEval.evaluate()\n",
    "cocoEval.accumulate()\n",
    "cocoEval.summarize(class_index=tmp)"
   ]
  },
  {
   "cell_type": "code",
   "execution_count": 12,
   "metadata": {},
   "outputs": [
    {
     "name": "stdout",
     "output_type": "stream",
     "text": [
      "Running per image evaluation...\n",
      "Evaluate annotation type *bbox*\n",
      "DONE (t=10.80s).\n",
      "Accumulating evaluation results...\n",
      "DONE (t=0.26s).\n",
      " Average Precision  (AP) @[ IoU=0.50:0.95 | area=   all | maxDets=500 ] = 0.381\n",
      " Average Precision  (AP) @[ IoU=0.50      | area=   all | maxDets=500 ] = 0.639\n",
      " Average Precision  (AP) @[ IoU=0.75      | area=   all | maxDets=500 ] = 0.392\n",
      " Average Precision  (AP) @[ IoU=0.50:0.95 | area= small | maxDets=500 ] = 0.069\n",
      " Average Precision  (AP) @[ IoU=0.50:0.95 | area=medium | maxDets=500 ] = 0.426\n",
      " Average Precision  (AP) @[ IoU=0.50:0.95 | area= large | maxDets=500 ] = 0.835\n",
      " Average Recall     (AR) @[ IoU=0.50:0.95 | area=   all | maxDets=  1 ] = 0.026\n",
      " Average Recall     (AR) @[ IoU=0.50:0.95 | area=   all | maxDets= 10 ] = 0.205\n",
      " Average Recall     (AR) @[ IoU=0.50:0.95 | area=   all | maxDets=100 ] = 0.544\n",
      " Average Recall     (AR) @[ IoU=0.50:0.95 | area=   all | maxDets=200 ] = 0.545\n",
      " Average Recall     (AR) @[ IoU=0.50:0.95 | area=   all | maxDets=500 ] = 0.545\n",
      " Average Recall     (AR) @[ IoU=0.50:0.95 | area= small | maxDets=500 ] = 0.213\n",
      " Average Recall     (AR) @[ IoU=0.50:0.95 | area=medium | maxDets=500 ] = 0.570\n",
      " Average Recall     (AR) @[ IoU=0.50:0.95 | area= large | maxDets=500 ] = 0.850\n"
     ]
    }
   ],
   "source": [
    "g = 4\n",
    "cocoEval = results[g-1]\n",
    "get_list(dataset, g)\n",
    "tmp = [i-1 for i in dataset.list]\n",
    "cocoEval.evaluate()\n",
    "cocoEval.accumulate()\n",
    "cocoEval.summarize(class_index=tmp)"
   ]
  },
  {
   "cell_type": "code",
   "execution_count": 13,
   "metadata": {},
   "outputs": [
    {
     "name": "stdout",
     "output_type": "stream",
     "text": [
      "Running per image evaluation...\n",
      "Evaluate annotation type *bbox*\n",
      "DONE (t=38.47s).\n",
      "Accumulating evaluation results...\n",
      "DONE (t=0.31s).\n",
      " Average Precision  (AP) @[ IoU=0.50:0.95 | area=   all | maxDets=500 ] = 0.448\n",
      " Average Precision  (AP) @[ IoU=0.50      | area=   all | maxDets=500 ] = 0.735\n",
      " Average Precision  (AP) @[ IoU=0.75      | area=   all | maxDets=500 ] = 0.455\n",
      " Average Precision  (AP) @[ IoU=0.50:0.95 | area= small | maxDets=500 ] = 0.148\n",
      " Average Precision  (AP) @[ IoU=0.50:0.95 | area=medium | maxDets=500 ] = 0.502\n",
      " Average Precision  (AP) @[ IoU=0.50:0.95 | area= large | maxDets=500 ] = -1.000\n",
      " Average Recall     (AR) @[ IoU=0.50:0.95 | area=   all | maxDets=  1 ] = 0.015\n",
      " Average Recall     (AR) @[ IoU=0.50:0.95 | area=   all | maxDets= 10 ] = 0.137\n",
      " Average Recall     (AR) @[ IoU=0.50:0.95 | area=   all | maxDets=100 ] = 0.523\n",
      " Average Recall     (AR) @[ IoU=0.50:0.95 | area=   all | maxDets=200 ] = 0.539\n",
      " Average Recall     (AR) @[ IoU=0.50:0.95 | area=   all | maxDets=500 ] = 0.541\n",
      " Average Recall     (AR) @[ IoU=0.50:0.95 | area= small | maxDets=500 ] = 0.167\n",
      " Average Recall     (AR) @[ IoU=0.50:0.95 | area=medium | maxDets=500 ] = 0.617\n",
      " Average Recall     (AR) @[ IoU=0.50:0.95 | area= large | maxDets=500 ] = -1.000\n"
     ]
    }
   ],
   "source": [
    "g = 5\n",
    "cocoEval = results[g-1]\n",
    "get_list(dataset, g)\n",
    "tmp = [i-1 for i in dataset.list]\n",
    "cocoEval.evaluate()\n",
    "cocoEval.accumulate()\n",
    "cocoEval.summarize(class_index=tmp)"
   ]
  },
  {
   "cell_type": "code",
   "execution_count": 33,
   "metadata": {},
   "outputs": [
    {
     "name": "stdout",
     "output_type": "stream",
     "text": [
      "Running per image evaluation...\n",
      "Evaluate annotation type *bbox*\n",
      "DONE (t=127.64s).\n",
      "Accumulating evaluation results...\n",
      "DONE (t=0.38s).\n",
      " Average Precision  (AP) @[ IoU=0.50:0.95 | area=   all | maxDets=500 ] = 0.086\n",
      " Average Precision  (AP) @[ IoU=0.50      | area=   all | maxDets=500 ] = 0.206\n",
      " Average Precision  (AP) @[ IoU=0.75      | area=   all | maxDets=500 ] = 0.060\n",
      " Average Precision  (AP) @[ IoU=0.50:0.95 | area= small | maxDets=500 ] = 0.051\n",
      " Average Precision  (AP) @[ IoU=0.50:0.95 | area=medium | maxDets=500 ] = 0.285\n",
      " Average Precision  (AP) @[ IoU=0.50:0.95 | area= large | maxDets=500 ] = 0.275\n",
      " Average Recall     (AR) @[ IoU=0.50:0.95 | area=   all | maxDets=  1 ] = 0.004\n",
      " Average Recall     (AR) @[ IoU=0.50:0.95 | area=   all | maxDets= 10 ] = 0.030\n",
      " Average Recall     (AR) @[ IoU=0.50:0.95 | area=   all | maxDets=100 ] = 0.131\n",
      " Average Recall     (AR) @[ IoU=0.50:0.95 | area=   all | maxDets=200 ] = 0.153\n",
      " Average Recall     (AR) @[ IoU=0.50:0.95 | area=   all | maxDets=500 ] = 0.158\n",
      " Average Recall     (AR) @[ IoU=0.50:0.95 | area= small | maxDets=500 ] = 0.076\n",
      " Average Recall     (AR) @[ IoU=0.50:0.95 | area=medium | maxDets=500 ] = 0.501\n",
      " Average Recall     (AR) @[ IoU=0.50:0.95 | area= large | maxDets=500 ] = 0.430\n"
     ]
    }
   ],
   "source": [
    "s=1\n",
    "cocoEval = g6_results[s-1]\n",
    "get_list(dataset, 6)\n",
    "tmp = [i-1 for i in dataset.list]\n",
    "cocoEval.evaluate()\n",
    "cocoEval.accumulate()\n",
    "cocoEval.summarize(class_index=tmp)"
   ]
  },
  {
   "cell_type": "code",
   "execution_count": 34,
   "metadata": {},
   "outputs": [
    {
     "name": "stdout",
     "output_type": "stream",
     "text": [
      "Running per image evaluation...\n",
      "Evaluate annotation type *bbox*\n",
      "DONE (t=114.99s).\n",
      "Accumulating evaluation results...\n",
      "DONE (t=0.35s).\n",
      " Average Precision  (AP) @[ IoU=0.50:0.95 | area=   all | maxDets=500 ] = 0.064\n",
      " Average Precision  (AP) @[ IoU=0.50      | area=   all | maxDets=500 ] = 0.167\n",
      " Average Precision  (AP) @[ IoU=0.75      | area=   all | maxDets=500 ] = 0.042\n",
      " Average Precision  (AP) @[ IoU=0.50:0.95 | area= small | maxDets=500 ] = 0.034\n",
      " Average Precision  (AP) @[ IoU=0.50:0.95 | area=medium | maxDets=500 ] = 0.238\n",
      " Average Precision  (AP) @[ IoU=0.50:0.95 | area= large | maxDets=500 ] = 0.273\n",
      " Average Recall     (AR) @[ IoU=0.50:0.95 | area=   all | maxDets=  1 ] = 0.003\n",
      " Average Recall     (AR) @[ IoU=0.50:0.95 | area=   all | maxDets= 10 ] = 0.024\n",
      " Average Recall     (AR) @[ IoU=0.50:0.95 | area=   all | maxDets=100 ] = 0.099\n",
      " Average Recall     (AR) @[ IoU=0.50:0.95 | area=   all | maxDets=200 ] = 0.109\n",
      " Average Recall     (AR) @[ IoU=0.50:0.95 | area=   all | maxDets=500 ] = 0.109\n",
      " Average Recall     (AR) @[ IoU=0.50:0.95 | area= small | maxDets=500 ] = 0.029\n",
      " Average Recall     (AR) @[ IoU=0.50:0.95 | area=medium | maxDets=500 ] = 0.378\n",
      " Average Recall     (AR) @[ IoU=0.50:0.95 | area= large | maxDets=500 ] = 0.620\n"
     ]
    }
   ],
   "source": [
    "s=2\n",
    "cocoEval = g6_results[s-1]\n",
    "get_list(dataset, 6)\n",
    "tmp = [i-1 for i in dataset.list]\n",
    "cocoEval.evaluate()\n",
    "cocoEval.accumulate()\n",
    "cocoEval.summarize(class_index=tmp)"
   ]
  },
  {
   "cell_type": "code",
   "execution_count": 35,
   "metadata": {},
   "outputs": [
    {
     "name": "stdout",
     "output_type": "stream",
     "text": [
      "Running per image evaluation...\n",
      "Evaluate annotation type *bbox*\n",
      "DONE (t=133.76s).\n",
      "Accumulating evaluation results...\n",
      "DONE (t=0.42s).\n",
      " Average Precision  (AP) @[ IoU=0.50:0.95 | area=   all | maxDets=500 ] = 0.069\n",
      " Average Precision  (AP) @[ IoU=0.50      | area=   all | maxDets=500 ] = 0.179\n",
      " Average Precision  (AP) @[ IoU=0.75      | area=   all | maxDets=500 ] = 0.042\n",
      " Average Precision  (AP) @[ IoU=0.50:0.95 | area= small | maxDets=500 ] = 0.032\n",
      " Average Precision  (AP) @[ IoU=0.50:0.95 | area=medium | maxDets=500 ] = 0.216\n",
      " Average Precision  (AP) @[ IoU=0.50:0.95 | area= large | maxDets=500 ] = 0.228\n",
      " Average Recall     (AR) @[ IoU=0.50:0.95 | area=   all | maxDets=  1 ] = 0.003\n",
      " Average Recall     (AR) @[ IoU=0.50:0.95 | area=   all | maxDets= 10 ] = 0.024\n",
      " Average Recall     (AR) @[ IoU=0.50:0.95 | area=   all | maxDets=100 ] = 0.105\n",
      " Average Recall     (AR) @[ IoU=0.50:0.95 | area=   all | maxDets=200 ] = 0.121\n",
      " Average Recall     (AR) @[ IoU=0.50:0.95 | area=   all | maxDets=500 ] = 0.124\n",
      " Average Recall     (AR) @[ IoU=0.50:0.95 | area= small | maxDets=500 ] = 0.030\n",
      " Average Recall     (AR) @[ IoU=0.50:0.95 | area=medium | maxDets=500 ] = 0.383\n",
      " Average Recall     (AR) @[ IoU=0.50:0.95 | area= large | maxDets=500 ] = 0.325\n"
     ]
    }
   ],
   "source": [
    "s=3\n",
    "cocoEval = g6_results[s-1]\n",
    "get_list(dataset, 6)\n",
    "tmp = [i-1 for i in dataset.list]\n",
    "cocoEval.evaluate()\n",
    "cocoEval.accumulate()\n",
    "cocoEval.summarize(class_index=tmp)"
   ]
  },
  {
   "cell_type": "code",
   "execution_count": 36,
   "metadata": {},
   "outputs": [
    {
     "name": "stdout",
     "output_type": "stream",
     "text": [
      "Running per image evaluation...\n",
      "Evaluate annotation type *bbox*\n",
      "DONE (t=140.86s).\n",
      "Accumulating evaluation results...\n",
      "DONE (t=0.42s).\n",
      " Average Precision  (AP) @[ IoU=0.50:0.95 | area=   all | maxDets=500 ] = 0.064\n",
      " Average Precision  (AP) @[ IoU=0.50      | area=   all | maxDets=500 ] = 0.166\n",
      " Average Precision  (AP) @[ IoU=0.75      | area=   all | maxDets=500 ] = 0.043\n",
      " Average Precision  (AP) @[ IoU=0.50:0.95 | area= small | maxDets=500 ] = 0.025\n",
      " Average Precision  (AP) @[ IoU=0.50:0.95 | area=medium | maxDets=500 ] = 0.221\n",
      " Average Precision  (AP) @[ IoU=0.50:0.95 | area= large | maxDets=500 ] = 0.239\n",
      " Average Recall     (AR) @[ IoU=0.50:0.95 | area=   all | maxDets=  1 ] = 0.003\n",
      " Average Recall     (AR) @[ IoU=0.50:0.95 | area=   all | maxDets= 10 ] = 0.024\n",
      " Average Recall     (AR) @[ IoU=0.50:0.95 | area=   all | maxDets=100 ] = 0.097\n",
      " Average Recall     (AR) @[ IoU=0.50:0.95 | area=   all | maxDets=200 ] = 0.112\n",
      " Average Recall     (AR) @[ IoU=0.50:0.95 | area=   all | maxDets=500 ] = 0.114\n",
      " Average Recall     (AR) @[ IoU=0.50:0.95 | area= small | maxDets=500 ] = 0.023\n",
      " Average Recall     (AR) @[ IoU=0.50:0.95 | area=medium | maxDets=500 ] = 0.383\n",
      " Average Recall     (AR) @[ IoU=0.50:0.95 | area= large | maxDets=500 ] = 0.440\n"
     ]
    }
   ],
   "source": [
    "s=4\n",
    "cocoEval = g6_results[s-1]\n",
    "get_list(dataset, 6)\n",
    "tmp = [i-1 for i in dataset.list]\n",
    "cocoEval.evaluate()\n",
    "cocoEval.accumulate()\n",
    "cocoEval.summarize(class_index=tmp)"
   ]
  },
  {
   "cell_type": "code",
   "execution_count": 37,
   "metadata": {},
   "outputs": [
    {
     "name": "stdout",
     "output_type": "stream",
     "text": [
      "Running per image evaluation...\n",
      "Evaluate annotation type *bbox*\n",
      "DONE (t=117.51s).\n",
      "Accumulating evaluation results...\n",
      "DONE (t=0.37s).\n",
      " Average Precision  (AP) @[ IoU=0.50:0.95 | area=   all | maxDets=500 ] = 0.059\n",
      " Average Precision  (AP) @[ IoU=0.50      | area=   all | maxDets=500 ] = 0.164\n",
      " Average Precision  (AP) @[ IoU=0.75      | area=   all | maxDets=500 ] = 0.036\n",
      " Average Precision  (AP) @[ IoU=0.50:0.95 | area= small | maxDets=500 ] = 0.025\n",
      " Average Precision  (AP) @[ IoU=0.50:0.95 | area=medium | maxDets=500 ] = 0.178\n",
      " Average Precision  (AP) @[ IoU=0.50:0.95 | area= large | maxDets=500 ] = 0.417\n",
      " Average Recall     (AR) @[ IoU=0.50:0.95 | area=   all | maxDets=  1 ] = 0.002\n",
      " Average Recall     (AR) @[ IoU=0.50:0.95 | area=   all | maxDets= 10 ] = 0.021\n",
      " Average Recall     (AR) @[ IoU=0.50:0.95 | area=   all | maxDets=100 ] = 0.095\n",
      " Average Recall     (AR) @[ IoU=0.50:0.95 | area=   all | maxDets=200 ] = 0.109\n",
      " Average Recall     (AR) @[ IoU=0.50:0.95 | area=   all | maxDets=500 ] = 0.111\n",
      " Average Recall     (AR) @[ IoU=0.50:0.95 | area= small | maxDets=500 ] = 0.022\n",
      " Average Recall     (AR) @[ IoU=0.50:0.95 | area=medium | maxDets=500 ] = 0.337\n",
      " Average Recall     (AR) @[ IoU=0.50:0.95 | area= large | maxDets=500 ] = 0.578\n"
     ]
    }
   ],
   "source": [
    "s=5\n",
    "cocoEval = g6_results[s-1]\n",
    "get_list(dataset, 6)\n",
    "tmp = [i-1 for i in dataset.list]\n",
    "cocoEval.evaluate()\n",
    "cocoEval.accumulate()\n",
    "cocoEval.summarize(class_index=tmp)"
   ]
  },
  {
   "cell_type": "code",
   "execution_count": null,
   "metadata": {},
   "outputs": [],
   "source": []
  }
 ],
 "metadata": {
  "kernelspec": {
   "display_name": "nuclei",
   "language": "python",
   "name": "nuclei"
  },
  "language_info": {
   "codemirror_mode": {
    "name": "ipython",
    "version": 3
   },
   "file_extension": ".py",
   "mimetype": "text/x-python",
   "name": "python",
   "nbconvert_exporter": "python",
   "pygments_lexer": "ipython3",
   "version": "3.7.3"
  }
 },
 "nbformat": 4,
 "nbformat_minor": 2
}
